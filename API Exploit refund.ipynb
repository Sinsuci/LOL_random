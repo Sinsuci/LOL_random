{
 "cells": [
  {
   "cell_type": "code",
   "execution_count": null,
   "metadata": {},
   "outputs": [],
   "source": [
    "import requests\n",
    " \n",
    "import base64\n",
    "import psutil\n",
    "import os\n",
    "import requests\n",
    "from urllib3 import disable_warnings\n",
    "import configparser\n",
    " \n",
    "disable_warnings()\n",
    " \n",
    "def get_process_by_name(process_name):\n",
    "    while True:\n",
    "        for proc in psutil.process_iter():\n",
    "            try:\n",
    "                if process_name in proc.name():\n",
    "                    return proc\n",
    "            except (psutil.NoSuchProcess, psutil.AccessDenied, psutil.ZombieProcess):\n",
    "                pass\n",
    " \n",
    "class LeagueOfLegendsClientAPI(object):\n",
    "    def __init__(self):\n",
    "        self.process = get_process_by_name(\"LeagueClientUx\")\n",
    " \n",
    "        self.lockfile = open(os.path.join(self.process.cwd(), \"lockfile\"), 'r').read()\n",
    " \n",
    "        split = self.lockfile.split(\":\")\n",
    " \n",
    "        self.process_name = split[0]\n",
    "        self.process_id = split[1]\n",
    "        self.port = split[2]\n",
    "        self.password = str(base64.b64encode((\"riot:\" + split[3]).encode(\"utf-8\")), \"utf-8\")\n",
    "        self.protocol = split[4]\n",
    "        self.region = requests.get(\n",
    "            self.protocol + \"://127.0.0.1:\" + self.port + \"/riotclient/get_region_locale\",\n",
    "            verify=False,\n",
    "            headers={\"Authorization\": \"Basic \" + self.password}).json()\n",
    "        self.session = requests.get(\n",
    "            self.protocol + \"://127.0.0.1:\" + self.port + \"/lol-login/v1/session\",\n",
    "            verify=False,\n",
    "            headers={\"Authorization\": \"Basic \" + self.password}).json()\n",
    "        \n",
    "    def get(self, path):\n",
    "        return requests.get(\n",
    "            self.protocol + \"://127.0.0.1:\" + self.port + path,\n",
    "            verify=False,\n",
    "            headers={\"Authorization\": \"Basic \" + self.password}\n",
    "        )\n",
    "    \n",
    "    def get_token(self, path):\n",
    "        token = self.session[\"idToken\"]\n",
    "        region = self.region[\"webRegion\"]\n",
    "        \n",
    "        return requests.get(\"https://\" + region + \".store.leagueoflegends.com\" + path,\n",
    "            verify=False,\n",
    "            headers={\"Authorization\": \"Bearer \" + token}\n",
    "        )\n",
    "    \n",
    "    def postRefund(self, path, json=None):\n",
    "        token = self.session[\"idToken\"]\n",
    "        region = self.region[\"webRegion\"]\n",
    "        \n",
    "        return requests.post(\n",
    "            self.protocol + \"://\" + region + \".store.leagueoflegends.com\" + path,\n",
    "            verify=False,\n",
    "            headers={\"Authorization\": \"Bearer \" + token},\n",
    "            json=json\n",
    "        )\n",
    "\n",
    "api = LeagueOfLegendsClientAPI()\n",
    "session = api.get('/lol-login/v1/session').json()\n",
    "accId = session[\"accountId\"]\n",
    "transaction = api.get_token('/storefront/v3/history/purchase').json()\n",
    "transactionId = transaction['transactions']\n",
    "i = 12\n",
    "for e in transactionId:\n",
    "    first = e['transactionId']\n",
    "    if i == 1:\n",
    "        break\n",
    "    i += 1\n",
    "data = {\"accountId\":accId,\"transactionId\":first,\"inventoryType\":\"CHAMPION\",\"language\":\"en_US\"}\n",
    "\n",
    "api.postRefund('/storefront/v3/refund', data)"
   ]
  },
  {
   "cell_type": "code",
   "execution_count": null,
   "metadata": {},
   "outputs": [],
   "source": [
    "for i in range(0,20) :\n",
    "    for e in transactionId:\n",
    "        first = e['transactionId']\n",
    "        if i == 1:\n",
    "            break\n",
    "        i += 1\n",
    "    data = {\"accountId\":accId,\"transactionId\":first,\"inventoryType\":\"CHAMPION\",\"language\":\"en_US\"}\n",
    "    api.postRefund('/storefront/v3/refund', data)"
   ]
  },
  {
   "cell_type": "code",
   "execution_count": null,
   "metadata": {},
   "outputs": [],
   "source": [
    "transactionId[12]"
   ]
  },
  {
   "cell_type": "code",
   "execution_count": null,
   "metadata": {},
   "outputs": [],
   "source": [
    "api.postRefund('/storefront/v3/refund', data)"
   ]
  }
 ],
 "metadata": {
  "kernelspec": {
   "display_name": "Python 3.10.9 ('base')",
   "language": "python",
   "name": "python3"
  },
  "language_info": {
   "codemirror_mode": {
    "name": "ipython",
    "version": 3
   },
   "file_extension": ".py",
   "mimetype": "text/x-python",
   "name": "python",
   "nbconvert_exporter": "python",
   "pygments_lexer": "ipython3",
   "version": "3.10.9"
  },
  "orig_nbformat": 4,
  "vscode": {
   "interpreter": {
    "hash": "3f56231212a954684e4455fc18e87f1d6f60ff89596aa855e6d309fe16c87e87"
   }
  }
 },
 "nbformat": 4,
 "nbformat_minor": 2
}
